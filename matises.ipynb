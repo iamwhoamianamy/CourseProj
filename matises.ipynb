{
 "metadata": {
  "language_info": {
   "codemirror_mode": {
    "name": "ipython",
    "version": 3
   },
   "file_extension": ".py",
   "mimetype": "text/x-python",
   "name": "python",
   "nbconvert_exporter": "python",
   "pygments_lexer": "ipython3",
   "version": "3.8.3-final"
  },
  "orig_nbformat": 2,
  "kernelspec": {
   "name": "python3",
   "display_name": "Python 3",
   "language": "python"
  }
 },
 "nbformat": 4,
 "nbformat_minor": 2,
 "cells": [
  {
   "cell_type": "code",
   "execution_count": null,
   "metadata": {},
   "outputs": [],
   "source": [
    "import numpy as np\n",
    "import math"
   ]
  },
  {
   "cell_type": "code",
   "execution_count": null,
   "metadata": {},
   "outputs": [],
   "source": [
    "def mu(i):\n",
    "    return i % 3\n",
    "def nu(i):\n",
    "    return math.floor(i / 3)"
   ]
  },
  {
   "cell_type": "code",
   "execution_count": null,
   "metadata": {},
   "outputs": [],
   "source": [
    "G = np.array(\n",
    "    [[7,-8,1],\n",
    "    [-8,16,-8],\n",
    "    [1,-8,7]])\n",
    "M = np.array(\n",
    "    [[4,2,-1],\n",
    "    [2,16,2],\n",
    "    [-1,2,4]])\n",
    "\n",
    "G1 = np.zeros((9,9))\n",
    "G2 = np.zeros((9,9))\n",
    "M1 = np.zeros((9,9))\n",
    "\n",
    "for i in range(9):\n",
    "    for j in range(9):\n",
    "        G1[i][j] = G[mu(i)][mu(j)] * M[nu(i)][nu(j)]\n",
    "        G2[i][j] = M[mu(i)][mu(j)] * G[nu(i)][nu(j)]\n",
    "        M1[i][j] = M[mu(i)][mu(j)] * M[nu(i)][nu(j)]\n",
    "\n",
    "print(G1, \"\\n\")\n",
    "print(G2, \"\\n\")\n",
    "print(M1, \"\\n\")\n"
   ]
  },
  {
   "cell_type": "code",
   "execution_count": null,
   "metadata": {},
   "outputs": [],
   "source": [
    "with open(\"G1.txt\", \"w\") as f:\n",
    "    for i in range(9):\n",
    "        f.write(str(G1[i][i]))\n",
    "        f.write(\" \")\n",
    "    f.write(\"\\n\")\n",
    "    for i in range(9):\n",
    "        for j in range(i):\n",
    "            f.write(str(G1[i][j]))\n",
    "            f.write(\" \")\n",
    "\n",
    "with open(\"G2.txt\", \"w\") as f:\n",
    "    for i in range(9):\n",
    "        f.write(str(G2[i][i]))\n",
    "        f.write(\" \")\n",
    "    f.write(\"\\n\")\n",
    "    for i in range(9):\n",
    "        for j in range(i):\n",
    "            f.write(str(G2[i][j]))\n",
    "            f.write(\" \")\n",
    "\n",
    "with open(\"M1.txt\", \"w\") as f:\n",
    "    for i in range(9):\n",
    "        f.write(str(M1[i][i]))\n",
    "        f.write(\" \")\n",
    "    f.write(\"\\n\")\n",
    "    for i in range(9):\n",
    "        for j in range(i):\n",
    "            f.write(str(M1[i][j]))\n",
    "            f.write(\" \")"
   ]
  },
  {
   "cell_type": "code",
   "execution_count": null,
   "metadata": {},
   "outputs": [],
   "source": [
    "for i in range(1,5):\n",
    "    print(2 * math.floor((i - 1) / (3 - 1)) * (2 * 3 - 1) + 2 * ((i - 1) % (3 - 1)) + 1)"
   ]
  },
  {
   "cell_type": "code",
   "execution_count": null,
   "metadata": {},
   "outputs": [],
   "source": []
  }
 ]
}