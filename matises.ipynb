{
 "metadata": {
  "language_info": {
   "codemirror_mode": {
    "name": "ipython",
    "version": 3
   },
   "file_extension": ".py",
   "mimetype": "text/x-python",
   "name": "python",
   "nbconvert_exporter": "python",
   "pygments_lexer": "ipython3",
   "version": "3.8.3-final"
  },
  "orig_nbformat": 2,
  "kernelspec": {
   "name": "python3",
   "display_name": "Python 3",
   "language": "python"
  }
 },
 "nbformat": 4,
 "nbformat_minor": 2,
 "cells": [
  {
   "cell_type": "code",
   "execution_count": 6,
   "metadata": {},
   "outputs": [],
   "source": [
    "import numpy as np\n",
    "import math"
   ]
  },
  {
   "cell_type": "code",
   "execution_count": 11,
   "metadata": {},
   "outputs": [],
   "source": [
    "def mu(i):\n",
    "    return i % 3\n",
    "def nu(i):\n",
    "    return math.floor(i / 3)"
   ]
  },
  {
   "cell_type": "code",
   "execution_count": 17,
   "metadata": {},
   "outputs": [
    {
     "output_type": "stream",
     "name": "stdout",
     "text": [
      "[[  28.  -32.    4.   14.  -16.    2.]\n [ -32.   64.  -32.  -16.   32.  -16.]\n [   4.  -32.   28.    2.  -16.   14.]\n [  14.  -16.    2.  112. -128.   16.]\n [ -16.   32.  -16. -128.  256. -128.]\n [   2.  -16.   14.   16. -128.  112.]] \n\n[[  28.   14.   -7.  -32.  -16.    8.]\n [  14.  112.   14.  -16. -128.  -16.]\n [  -7.   14.   28.    8.  -16.  -32.]\n [ -32.  -16.    8.   64.   32.  -16.]\n [ -16. -128.  -16.   32.  256.   32.]\n [   8.  -16.  -32.  -16.   32.   64.]] \n\n[[ 16.   8.  -4.   8.   4.  -2.]\n [  8.  64.   8.   4.  32.   4.]\n [ -4.   8.  16.  -2.   4.   8.]\n [  8.   4.  -2.  64.  32. -16.]\n [  4.  32.   4.  32. 256.  32.]\n [ -2.   4.   8. -16.  32.  64.]] \n\n"
     ]
    }
   ],
   "source": [
    "G = np.array(\n",
    "    [[7,-8,1],\n",
    "    [-8,16,-8],\n",
    "    [1,-8,7]])\n",
    "M = np.array(\n",
    "    [[4,2,-1],\n",
    "    [2,16,2],\n",
    "    [-1,2,4]])\n",
    "\n",
    "G1 = np.zeros((6,6))\n",
    "G2 = np.zeros((6,6))\n",
    "M1 = np.zeros((6,6))\n",
    "\n",
    "for i in range(6):\n",
    "    for j in range(6):\n",
    "        G1[i][j] = G[mu(i)][mu(j)] * M[nu(i)][nu(j)]\n",
    "        G2[i][j] = M[mu(i)][mu(j)] * G[nu(i)][nu(j)]\n",
    "        M1[i][j] = M[mu(i)][mu(j)] * M[nu(i)][nu(j)]\n",
    "\n",
    "print(G1, \"\\n\")\n",
    "print(G2, \"\\n\")\n",
    "print(M1, \"\\n\")"
   ]
  },
  {
   "cell_type": "code",
   "execution_count": null,
   "metadata": {},
   "outputs": [],
   "source": []
  }
 ]
}